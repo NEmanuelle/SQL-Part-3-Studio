{
    "metadata": {
        "kernelspec": {
            "name": "SQL",
            "display_name": "SQL",
            "language": "sql"
        },
        "language_info": {
            "name": "sql",
            "version": ""
        },
        "extensions": {
            "azuredatastudio": {
                "version": 1,
                "views": []
            }
        }
    },
    "nbformat_minor": 2,
    "nbformat": 4,
    "cells": [
        {
            "cell_type": "markdown",
            "source": [
                "# SQL Part 3 Studio\n",
                "\n",
                "### Let's practice your SQL quering skills!  For each question, work along in the notebook adding your query and answering the questions. \n",
                "\n",
                "### **DataSet**\n",
                "\n",
                "### <span style=\"font-size: 14px; font-family: -apple-system, BlinkMacSystemFont, sans-serif;\">We will be using the Goodbooks-10k dataset from the exercises in the prep work.&nbsp; Feel free reference your previous notebooks.</span>\n",
                "\n",
                "- The dataset can be found here: [goodbooks-10k](https://www.kaggle.com/zygmunt/goodbooks-10k)\n",
                "- You can access the **BooksDB** in the Launchcode server.\n",
                "\n",
                "### **Business Issue**\n",
                "\n",
                "You are an employee at a small independet bookstore and you have been tasked to increase sales.  You decide to use the BooksDB to find books and themes to highlight in fun promotions throughout each month / season.  We will be starting with March and then you will have a chance to explore another month of your choosing.  We want to come up with a list of events/ promotions to run each month.  If you are looking for ideas to include in your promotions:\n",
                "\n",
                "- [https://www.calendarr.com/united-states/calendar-2022/](https://www.calendarr.com/united-states/calendar-2022/)\n",
                "- [https://www.holidayinsights.com/moreholidays/](https://www.holidayinsights.com/moreholidays/)\n",
                "    - Click on a month and it will take you to a more detailed page"
            ],
            "metadata": {
                "azdata_cell_guid": "b9034d8a-b631-48bf-a895-1012a6ffa784"
            },
            "attachments": {}
        },
        {
            "cell_type": "code",
            "source": [
                "SELECT TOP 1 *\n",
                "FROM to_read;\n",
                "\n",
                "SELECT TOP 1 *\n",
                "FROM books;\n",
                "\n",
                "SELECT TOP 1 *\n",
                "FROM tags;\n",
                "\n",
                "SELECT TOP 1 *\n",
                "FROM book_tags;\n",
                "\n",
                "SELECT TOP 1 *\n",
                "FROM ratings;"
            ],
            "metadata": {
                "azdata_cell_guid": "8b1f6bb8-b684-4343-acdf-083822b925c7",
                "language": "sql"
            },
            "outputs": [
                {
                    "output_type": "display_data",
                    "data": {
                        "text/html": "(1 row affected)"
                    },
                    "metadata": {}
                },
                {
                    "output_type": "display_data",
                    "data": {
                        "text/html": "(1 row affected)"
                    },
                    "metadata": {}
                },
                {
                    "output_type": "display_data",
                    "data": {
                        "text/html": "(1 row affected)"
                    },
                    "metadata": {}
                },
                {
                    "output_type": "display_data",
                    "data": {
                        "text/html": "(1 row affected)"
                    },
                    "metadata": {}
                },
                {
                    "output_type": "display_data",
                    "data": {
                        "text/html": "(1 row affected)"
                    },
                    "metadata": {}
                },
                {
                    "output_type": "display_data",
                    "data": {
                        "text/html": "Total execution time: 00:00:00.050"
                    },
                    "metadata": {}
                },
                {
                    "output_type": "execute_result",
                    "execution_count": 3,
                    "data": {
                        "application/vnd.dataresource+json": {
                            "schema": {
                                "fields": [
                                    {
                                        "name": "user_id"
                                    },
                                    {
                                        "name": "book_id"
                                    }
                                ]
                            },
                            "data": [
                                {
                                    "0": "1",
                                    "1": "112"
                                }
                            ]
                        },
                        "text/html": "<table><tr><th>user_id</th><th>book_id</th></tr><tr><td>1</td><td>112</td></tr></table>"
                    },
                    "metadata": {}
                },
                {
                    "output_type": "execute_result",
                    "execution_count": 3,
                    "data": {
                        "application/vnd.dataresource+json": {
                            "schema": {
                                "fields": [
                                    {
                                        "name": "id"
                                    },
                                    {
                                        "name": "book_id"
                                    },
                                    {
                                        "name": "best_book_id"
                                    },
                                    {
                                        "name": "work_id"
                                    },
                                    {
                                        "name": "books_count"
                                    },
                                    {
                                        "name": "isbn"
                                    },
                                    {
                                        "name": "isbn13"
                                    },
                                    {
                                        "name": "authors"
                                    },
                                    {
                                        "name": "original_publication_year"
                                    },
                                    {
                                        "name": "original_title"
                                    },
                                    {
                                        "name": "title"
                                    },
                                    {
                                        "name": "language_code"
                                    },
                                    {
                                        "name": "average_rating"
                                    },
                                    {
                                        "name": "ratings_count"
                                    },
                                    {
                                        "name": "work_ratings_count"
                                    },
                                    {
                                        "name": "work_text_reviews_count"
                                    },
                                    {
                                        "name": "ratings_1"
                                    },
                                    {
                                        "name": "ratings_2"
                                    },
                                    {
                                        "name": "ratings_3"
                                    },
                                    {
                                        "name": "ratings_4"
                                    },
                                    {
                                        "name": "ratings_5"
                                    },
                                    {
                                        "name": "image_url"
                                    },
                                    {
                                        "name": "small_image_url"
                                    }
                                ]
                            },
                            "data": [
                                {
                                    "0": "1",
                                    "1": "2767052",
                                    "2": "2767052",
                                    "3": "2792775",
                                    "4": "272",
                                    "5": "439023483",
                                    "6": "9780439023480",
                                    "7": "Suzanne Collins",
                                    "8": "2008",
                                    "9": "The Hunger Games",
                                    "10": "The Hunger Games (The Hunger Games, #1)",
                                    "11": "eng",
                                    "12": "4.34",
                                    "13": "4780653",
                                    "14": "4942365",
                                    "15": "155254",
                                    "16": "66715",
                                    "17": "127936",
                                    "18": "560092",
                                    "19": "1481305",
                                    "20": "2706317",
                                    "21": "https://images.gr-assets.com/books/1447303603m/2767052.jpg",
                                    "22": "https://images.gr-assets.com/books/1447303603s/2767052.jpg"
                                }
                            ]
                        },
                        "text/html": "<table><tr><th>id</th><th>book_id</th><th>best_book_id</th><th>work_id</th><th>books_count</th><th>isbn</th><th>isbn13</th><th>authors</th><th>original_publication_year</th><th>original_title</th><th>title</th><th>language_code</th><th>average_rating</th><th>ratings_count</th><th>work_ratings_count</th><th>work_text_reviews_count</th><th>ratings_1</th><th>ratings_2</th><th>ratings_3</th><th>ratings_4</th><th>ratings_5</th><th>image_url</th><th>small_image_url</th></tr><tr><td>1</td><td>2767052</td><td>2767052</td><td>2792775</td><td>272</td><td>439023483</td><td>9780439023480</td><td>Suzanne Collins</td><td>2008</td><td>The Hunger Games</td><td>The Hunger Games (The Hunger Games, #1)</td><td>eng</td><td>4.34</td><td>4780653</td><td>4942365</td><td>155254</td><td>66715</td><td>127936</td><td>560092</td><td>1481305</td><td>2706317</td><td>https://images.gr-assets.com/books/1447303603m/2767052.jpg</td><td>https://images.gr-assets.com/books/1447303603s/2767052.jpg</td></tr></table>"
                    },
                    "metadata": {}
                },
                {
                    "output_type": "execute_result",
                    "execution_count": 3,
                    "data": {
                        "application/vnd.dataresource+json": {
                            "schema": {
                                "fields": [
                                    {
                                        "name": "tag_id"
                                    },
                                    {
                                        "name": "tag_name"
                                    }
                                ]
                            },
                            "data": [
                                {
                                    "0": "0",
                                    "1": "-"
                                }
                            ]
                        },
                        "text/html": "<table><tr><th>tag_id</th><th>tag_name</th></tr><tr><td>0</td><td>-</td></tr></table>"
                    },
                    "metadata": {}
                },
                {
                    "output_type": "execute_result",
                    "execution_count": 3,
                    "data": {
                        "application/vnd.dataresource+json": {
                            "schema": {
                                "fields": [
                                    {
                                        "name": "goodreads_book_id"
                                    },
                                    {
                                        "name": "tag_id"
                                    },
                                    {
                                        "name": "count"
                                    }
                                ]
                            },
                            "data": [
                                {
                                    "0": "1",
                                    "1": "30574",
                                    "2": "167697"
                                }
                            ]
                        },
                        "text/html": "<table><tr><th>goodreads_book_id</th><th>tag_id</th><th>count</th></tr><tr><td>1</td><td>30574</td><td>167697</td></tr></table>"
                    },
                    "metadata": {}
                },
                {
                    "output_type": "execute_result",
                    "execution_count": 3,
                    "data": {
                        "application/vnd.dataresource+json": {
                            "schema": {
                                "fields": [
                                    {
                                        "name": "book_id"
                                    },
                                    {
                                        "name": "user_id"
                                    },
                                    {
                                        "name": "rating"
                                    }
                                ]
                            },
                            "data": [
                                {
                                    "0": "59",
                                    "1": "35146",
                                    "2": "4"
                                }
                            ]
                        },
                        "text/html": "<table><tr><th>book_id</th><th>user_id</th><th>rating</th></tr><tr><td>59</td><td>35146</td><td>4</td></tr></table>"
                    },
                    "metadata": {}
                }
            ],
            "execution_count": 3
        },
        {
            "cell_type": "markdown",
            "source": [
                "## Part 1:  March - Women's History Month, Dr Seuss Day(3/2), National Pie Day3/14, St Patrick's Day (3/17), Season - Spring"
            ],
            "metadata": {
                "azdata_cell_guid": "6e55eb1c-4a14-4076-90d2-95ed17a6309f"
            },
            "attachments": {}
        },
        {
            "cell_type": "markdown",
            "source": [
                "### **Event 1:** Women's History Month\n",
                "\n",
                "Goal: Highlight Popular Womans Authors based on ratings from the Good Reads DB.\n",
                "\n",
                "### **Write a query that returns tag\\_id, the number of times each tag\\_id is used and the tag\\_name.**  \n",
                "\n",
                "### Use the GROUP BY and HAVING clause to narrow your focus.\n",
                "\n",
                "Try multiple keywords, ie woman vs female (female ended up giving better results)"
            ],
            "metadata": {
                "azdata_cell_guid": "d220c097-e9cf-4edd-9abe-312d071217b7"
            },
            "attachments": {}
        },
        {
            "cell_type": "code",
            "source": [
                "-- Solution\n",
                "--tag_id's for female authors arranged by most used tags \n",
                "SELECT TOP 10  SUM (bt.count) AS tag_count, t.tag_id, t.tag_name\n",
                "FROM tags AS t\n",
                "LEFT JOIN book_tags AS bt\n",
                "ON t.tag_id = bt.tag_id\n",
                "GROUP BY t.tag_id, t.tag_name\n",
                "HAVING tag_name LIKE '%woman%' OR tag_name LIKE '%female%' OR tag_name LIKE '%trans' AND tag_name LIKE '%author%'\n",
                "ORDER BY tag_count DESC;\n",
                "\n",
                "---tag_ids for female authors arranged by the number of times the tag appears in the book_tags table.\n",
                "SELECT TOP 10  Count (bt.tag_id) AS tag_count, t.tag_id, t.tag_name\n",
                "FROM tags AS t\n",
                "LEFT JOIN book_tags AS bt\n",
                "ON t.tag_id = bt.tag_id\n",
                "GROUP BY t.tag_id, t.tag_name\n",
                "HAVING tag_name LIKE '%woman%' OR tag_name LIKE '%female%' OR tag_name LIKE '%trans' AND tag_name LIKE '%author%'\n",
                "ORDER BY tag_count DESC;\n",
                "\n",
                "\n",
                "--TOP 10 authors arranged by average_rating\n",
                "SELECT TOP 10 b.authors, title, average_rating\n",
                "FROM books AS b\n",
                "FULL JOIN book_tags AS bt\n",
                "ON bt.goodreads_book_id = b.best_book_id\n",
                "WHERE bt.tag_id = 11643 OR bt.tag_id = 11644 OR bt.tag_id = 11642 \n",
                "ORDER BY average_rating DESC"
            ],
            "metadata": {
                "azdata_cell_guid": "e31b9d26-0386-44c7-828e-85f4f06f3ee6",
                "language": "sql",
                "tags": []
            },
            "outputs": [
                {
                    "output_type": "display_data",
                    "data": {
                        "text/html": "(10 rows affected)"
                    },
                    "metadata": {}
                },
                {
                    "output_type": "display_data",
                    "data": {
                        "text/html": "(10 rows affected)"
                    },
                    "metadata": {}
                },
                {
                    "output_type": "display_data",
                    "data": {
                        "text/html": "(10 rows affected)"
                    },
                    "metadata": {}
                },
                {
                    "output_type": "display_data",
                    "data": {
                        "text/html": "Total execution time: 00:00:00.708"
                    },
                    "metadata": {}
                },
                {
                    "output_type": "execute_result",
                    "metadata": {},
                    "execution_count": 2,
                    "data": {
                        "application/vnd.dataresource+json": {
                            "schema": {
                                "fields": [
                                    {
                                        "name": "tag_count"
                                    },
                                    {
                                        "name": "tag_id"
                                    },
                                    {
                                        "name": "tag_name"
                                    }
                                ]
                            },
                            "data": [
                                {
                                    "0": "17999",
                                    "1": "11643",
                                    "2": "female-author"
                                },
                                {
                                    "0": "13690",
                                    "1": "11644",
                                    "2": "female-authors"
                                },
                                {
                                    "0": "2554",
                                    "1": "11658",
                                    "2": "female-protagonist"
                                },
                                {
                                    "0": "302",
                                    "1": "11646",
                                    "2": "female-detective"
                                },
                                {
                                    "0": "155",
                                    "1": "11656",
                                    "2": "female-pov"
                                },
                                {
                                    "0": "147",
                                    "1": "11662",
                                    "2": "female-writers"
                                },
                                {
                                    "0": "136",
                                    "1": "32681",
                                    "2": "woman-s-murder-club"
                                },
                                {
                                    "0": "133",
                                    "1": "11642",
                                    "2": "female"
                                },
                                {
                                    "0": "97",
                                    "1": "22271",
                                    "2": "older-woman-younger-man"
                                },
                                {
                                    "0": "93",
                                    "1": "19038",
                                    "2": "man-woman"
                                }
                            ]
                        },
                        "text/html": [
                            "<table>",
                            "<tr><th>tag_count</th><th>tag_id</th><th>tag_name</th></tr>",
                            "<tr><td>17999</td><td>11643</td><td>female-author</td></tr>",
                            "<tr><td>13690</td><td>11644</td><td>female-authors</td></tr>",
                            "<tr><td>2554</td><td>11658</td><td>female-protagonist</td></tr>",
                            "<tr><td>302</td><td>11646</td><td>female-detective</td></tr>",
                            "<tr><td>155</td><td>11656</td><td>female-pov</td></tr>",
                            "<tr><td>147</td><td>11662</td><td>female-writers</td></tr>",
                            "<tr><td>136</td><td>32681</td><td>woman-s-murder-club</td></tr>",
                            "<tr><td>133</td><td>11642</td><td>female</td></tr>",
                            "<tr><td>97</td><td>22271</td><td>older-woman-younger-man</td></tr>",
                            "<tr><td>93</td><td>19038</td><td>man-woman</td></tr>",
                            "</table>"
                        ]
                    }
                },
                {
                    "output_type": "execute_result",
                    "metadata": {},
                    "execution_count": 2,
                    "data": {
                        "application/vnd.dataresource+json": {
                            "schema": {
                                "fields": [
                                    {
                                        "name": "tag_count"
                                    },
                                    {
                                        "name": "tag_id"
                                    },
                                    {
                                        "name": "tag_name"
                                    }
                                ]
                            },
                            "data": [
                                {
                                    "0": "997",
                                    "1": "11643",
                                    "2": "female-author"
                                },
                                {
                                    "0": "721",
                                    "1": "11644",
                                    "2": "female-authors"
                                },
                                {
                                    "0": "171",
                                    "1": "11658",
                                    "2": "female-protagonist"
                                },
                                {
                                    "0": "32",
                                    "1": "11646",
                                    "2": "female-detective"
                                },
                                {
                                    "0": "18",
                                    "1": "11662",
                                    "2": "female-writers"
                                },
                                {
                                    "0": "17",
                                    "1": "11642",
                                    "2": "female"
                                },
                                {
                                    "0": "17",
                                    "1": "11656",
                                    "2": "female-pov"
                                },
                                {
                                    "0": "14",
                                    "1": "32681",
                                    "2": "woman-s-murder-club"
                                },
                                {
                                    "0": "14",
                                    "1": "11652",
                                    "2": "female-lead"
                                },
                                {
                                    "0": "12",
                                    "1": "3514",
                                    "2": "author-female"
                                }
                            ]
                        },
                        "text/html": [
                            "<table>",
                            "<tr><th>tag_count</th><th>tag_id</th><th>tag_name</th></tr>",
                            "<tr><td>997</td><td>11643</td><td>female-author</td></tr>",
                            "<tr><td>721</td><td>11644</td><td>female-authors</td></tr>",
                            "<tr><td>171</td><td>11658</td><td>female-protagonist</td></tr>",
                            "<tr><td>32</td><td>11646</td><td>female-detective</td></tr>",
                            "<tr><td>18</td><td>11662</td><td>female-writers</td></tr>",
                            "<tr><td>17</td><td>11642</td><td>female</td></tr>",
                            "<tr><td>17</td><td>11656</td><td>female-pov</td></tr>",
                            "<tr><td>14</td><td>32681</td><td>woman-s-murder-club</td></tr>",
                            "<tr><td>14</td><td>11652</td><td>female-lead</td></tr>",
                            "<tr><td>12</td><td>3514</td><td>author-female</td></tr>",
                            "</table>"
                        ]
                    }
                },
                {
                    "output_type": "execute_result",
                    "metadata": {},
                    "execution_count": 2,
                    "data": {
                        "application/vnd.dataresource+json": {
                            "schema": {
                                "fields": [
                                    {
                                        "name": "authors"
                                    },
                                    {
                                        "name": "title"
                                    },
                                    {
                                        "name": "average_rating"
                                    }
                                ]
                            },
                            "data": [
                                {
                                    "0": "J.K. Rowling, Mary GrandPré",
                                    "1": "The Harry Potter Collection 1-4 (Harry Potter, #1-4)",
                                    "2": "4.66"
                                },
                                {
                                    "0": "Jane Austen",
                                    "1": "The Complete Novels",
                                    "2": "4.55"
                                },
                                {
                                    "0": "Bisco Hatori",
                                    "1": "Ouran High School Host Club, Vol. 15 (Ouran High School Host Club, #15)",
                                    "2": "4.54"
                                },
                                {
                                    "0": "Robin Hobb",
                                    "1": "Fool's Quest  (The Fitz and The Fool, #2)",
                                    "2": "4.53"
                                },
                                {
                                    "0": "Robin Hobb",
                                    "1": "Fool's Quest  (The Fitz and The Fool, #2)",
                                    "2": "4.53"
                                },
                                {
                                    "0": "C.S. Pacat",
                                    "1": "Kings Rising (Captive Prince, #3)",
                                    "2": "4.5"
                                },
                                {
                                    "0": "Hiromu Arakawa, Akira Watanabe",
                                    "1": "Fullmetal Alchemist, Vol. 1 (Fullmetal Alchemist, #1)",
                                    "2": "4.49"
                                },
                                {
                                    "0": "Michelle Alexander",
                                    "1": "The New Jim Crow: Mass Incarceration in the Age of Colorblindness",
                                    "2": "4.49"
                                },
                                {
                                    "0": "Chimamanda Ngozi Adichie",
                                    "1": "We Should All Be Feminists",
                                    "2": "4.47"
                                },
                                {
                                    "0": "Chimamanda Ngozi Adichie",
                                    "1": "We Should All Be Feminists",
                                    "2": "4.47"
                                }
                            ]
                        },
                        "text/html": [
                            "<table>",
                            "<tr><th>authors</th><th>title</th><th>average_rating</th></tr>",
                            "<tr><td>J.K. Rowling, Mary GrandPré</td><td>The Harry Potter Collection 1-4 (Harry Potter, #1-4)</td><td>4.66</td></tr>",
                            "<tr><td>Jane Austen</td><td>The Complete Novels</td><td>4.55</td></tr>",
                            "<tr><td>Bisco Hatori</td><td>Ouran High School Host Club, Vol. 15 (Ouran High School Host Club, #15)</td><td>4.54</td></tr>",
                            "<tr><td>Robin Hobb</td><td>Fool's Quest  (The Fitz and The Fool, #2)</td><td>4.53</td></tr>",
                            "<tr><td>Robin Hobb</td><td>Fool's Quest  (The Fitz and The Fool, #2)</td><td>4.53</td></tr>",
                            "<tr><td>C.S. Pacat</td><td>Kings Rising (Captive Prince, #3)</td><td>4.5</td></tr>",
                            "<tr><td>Hiromu Arakawa, Akira Watanabe</td><td>Fullmetal Alchemist, Vol. 1 (Fullmetal Alchemist, #1)</td><td>4.49</td></tr>",
                            "<tr><td>Michelle Alexander</td><td>The New Jim Crow: Mass Incarceration in the Age of Colorblindness</td><td>4.49</td></tr>",
                            "<tr><td>Chimamanda Ngozi Adichie</td><td>We Should All Be Feminists</td><td>4.47</td></tr>",
                            "<tr><td>Chimamanda Ngozi Adichie</td><td>We Should All Be Feminists</td><td>4.47</td></tr>",
                            "</table>"
                        ]
                    }
                }
            ],
            "execution_count": 2
        },
        {
            "cell_type": "markdown",
            "source": [
                "### **Which keyword(s) and tag(s) would you like to explore more?**\n",
                "\n",
                "woman-trans-agender-authors, 31682\n",
                "\n",
                "woman-s-murder-club 32681"
            ],
            "metadata": {
                "azdata_cell_guid": "e9acd8b5-a62b-4ac0-bd07-19915b379ba6"
            },
            "attachments": {}
        },
        {
            "cell_type": "markdown",
            "source": [
                "### **Write a query to return authors, titles, ratings and** **selected tag(s)\\_id.**"
            ],
            "metadata": {
                "azdata_cell_guid": "59b84464-c0bc-4dac-9e02-0c803765b063"
            },
            "attachments": {}
        },
        {
            "cell_type": "code",
            "source": [
                "-- Solution\n",
                "--Count how many books have the tag for woman-trans-agender-authors\n",
                "SELECT COUNT(tag_id) as'number of books with trans woman author'\n",
                "FROM book_tags\n",
                "WHERE tag_id = 32682;\n",
                "\n",
                "--Pull the only book listed with a woman-trans-agender-author\n",
                "SELECT authors, title, average_rating, tag_id \n",
                "FROM books AS b \n",
                "LEFT JOIN book_tags AS bt\n",
                "ON goodreads_book_id = best_book_id\n",
                "WHERE tag_id = 32682;\n",
                "\n",
                "--Count how many books have the tag woman-s-murder-club\n",
                "SELECT COUNT (tag_id) AS 'number of murder club books'\n",
                "FROM book_tags\n",
                "WHERE tag_id = 32681;\n",
                "\n",
                "--Pull only the books listed with the tag woman-s-murder-club in order from highest rating\n",
                "SELECT TOP 5 authors, title, average_rating, tag_id \n",
                "FROM books AS b \n",
                "LEFT JOIN book_tags AS bt\n",
                "ON goodreads_book_id = best_book_id\n",
                "WHERE tag_id = 32681\n",
                "ORDER BY average_rating DESC;"
            ],
            "metadata": {
                "azdata_cell_guid": "51ffeaaf-6dde-4906-95f3-eb8757babf27",
                "tags": [],
                "language": "sql"
            },
            "outputs": [
                {
                    "output_type": "display_data",
                    "data": {
                        "text/html": "(1 row affected)"
                    },
                    "metadata": {}
                },
                {
                    "output_type": "display_data",
                    "data": {
                        "text/html": "(1 row affected)"
                    },
                    "metadata": {}
                },
                {
                    "output_type": "display_data",
                    "data": {
                        "text/html": "(1 row affected)"
                    },
                    "metadata": {}
                },
                {
                    "output_type": "display_data",
                    "data": {
                        "text/html": "(5 rows affected)"
                    },
                    "metadata": {}
                },
                {
                    "output_type": "display_data",
                    "data": {
                        "text/html": "Total execution time: 00:00:00.413"
                    },
                    "metadata": {}
                },
                {
                    "output_type": "execute_result",
                    "execution_count": 39,
                    "data": {
                        "application/vnd.dataresource+json": {
                            "schema": {
                                "fields": [
                                    {
                                        "name": "number of books with trans woman author"
                                    }
                                ]
                            },
                            "data": [
                                {
                                    "0": "1"
                                }
                            ]
                        },
                        "text/html": "<table><tr><th>number of books with trans woman author</th></tr><tr><td>1</td></tr></table>"
                    },
                    "metadata": {}
                },
                {
                    "output_type": "execute_result",
                    "execution_count": 39,
                    "data": {
                        "application/vnd.dataresource+json": {
                            "schema": {
                                "fields": [
                                    {
                                        "name": "authors"
                                    },
                                    {
                                        "name": "title"
                                    },
                                    {
                                        "name": "average_rating"
                                    },
                                    {
                                        "name": "tag_id"
                                    }
                                ]
                            },
                            "data": [
                                {
                                    "0": "Ellis Avery",
                                    "1": "The Last Nude",
                                    "2": "3.77",
                                    "3": "32682"
                                }
                            ]
                        },
                        "text/html": "<table><tr><th>authors</th><th>title</th><th>average_rating</th><th>tag_id</th></tr><tr><td>Ellis Avery</td><td>The Last Nude</td><td>3.77</td><td>32682</td></tr></table>"
                    },
                    "metadata": {}
                },
                {
                    "output_type": "execute_result",
                    "execution_count": 39,
                    "data": {
                        "application/vnd.dataresource+json": {
                            "schema": {
                                "fields": [
                                    {
                                        "name": "number of murder club books"
                                    }
                                ]
                            },
                            "data": [
                                {
                                    "0": "14"
                                }
                            ]
                        },
                        "text/html": "<table><tr><th>number of murder club books</th></tr><tr><td>14</td></tr></table>"
                    },
                    "metadata": {}
                },
                {
                    "output_type": "execute_result",
                    "execution_count": 39,
                    "data": {
                        "application/vnd.dataresource+json": {
                            "schema": {
                                "fields": [
                                    {
                                        "name": "authors"
                                    },
                                    {
                                        "name": "title"
                                    },
                                    {
                                        "name": "average_rating"
                                    },
                                    {
                                        "name": "tag_id"
                                    }
                                ]
                            },
                            "data": [
                                {
                                    "0": "James Patterson, Maxine Paetro",
                                    "1": "The 9th Judgment  (Women's Murder Club, #9)",
                                    "2": "4.08",
                                    "3": "32681"
                                },
                                {
                                    "0": "James Patterson, Maxine Paetro",
                                    "1": "7th Heaven (Women's Murder Club, #7)",
                                    "2": "4.06",
                                    "3": "32681"
                                },
                                {
                                    "0": "James Patterson, Maxine Paetro",
                                    "1": "10th Anniversary (Women's Murder Club, #10)",
                                    "2": "4.05",
                                    "3": "32681"
                                },
                                {
                                    "0": "James Patterson, Maxine Paetro",
                                    "1": "4th of July (Women's Murder Club, #4)",
                                    "2": "4.04",
                                    "3": "32681"
                                },
                                {
                                    "0": "James Patterson, Maxine Paetro",
                                    "1": "15th Affair (Women's Murder Club #15)",
                                    "2": "4.04",
                                    "3": "32681"
                                }
                            ]
                        },
                        "text/html": "<table><tr><th>authors</th><th>title</th><th>average_rating</th><th>tag_id</th></tr><tr><td>James Patterson, Maxine Paetro</td><td>The 9th Judgment  (Women's Murder Club, #9)</td><td>4.08</td><td>32681</td></tr><tr><td>James Patterson, Maxine Paetro</td><td>7th Heaven (Women's Murder Club, #7)</td><td>4.06</td><td>32681</td></tr><tr><td>James Patterson, Maxine Paetro</td><td>10th Anniversary (Women's Murder Club, #10)</td><td>4.05</td><td>32681</td></tr><tr><td>James Patterson, Maxine Paetro</td><td>4th of July (Women's Murder Club, #4)</td><td>4.04</td><td>32681</td></tr><tr><td>James Patterson, Maxine Paetro</td><td>15th Affair (Women's Murder Club #15)</td><td>4.04</td><td>32681</td></tr></table>"
                    },
                    "metadata": {}
                }
            ],
            "execution_count": 39
        },
        {
            "cell_type": "markdown",
            "source": [
                "### **Record your thoughts about why you wrote the query the way you did.**\n",
                "\n",
                "**I did a count first, if the number is low and I have the option to see all of the books returned, I would rather do that. It payed off whe I ran the query  for**  <span style=\"color: rgb(0, 128, 0); font-family: Menlo, Monaco, &quot;Courier New&quot;, monospace; font-size: 12px; white-space: pre;\">woman-trans-agender-author </span> **because it was the only one. It worked with the 2nd one as well and I was able to quickly see it's likely a series and is a collaboration with a male author.**"
            ],
            "metadata": {
                "azdata_cell_guid": "1e19a72c-1bca-446b-a0c7-a8efbc35dcf1"
            },
            "attachments": {}
        },
        {
            "cell_type": "markdown",
            "source": [
                "# Part 2: Choose Another Month\n",
                "\n",
                "Choose another month and plan at least 2 events / promotions and answer the following questions.\n",
                "\n",
                "Which month did you choose?  \n",
                "\n",
                "What 2 events / promotions are you highlighting?\n",
                "\n",
                "> 1.  November: Indigenous Heritage Month\n",
                "\n",
                "> 2. November: Cook books"
            ],
            "metadata": {
                "azdata_cell_guid": "3eaf376d-9de3-4553-a9d0-9caf74ee3d6a"
            },
            "attachments": {}
        },
        {
            "cell_type": "markdown",
            "source": [
                "# Part 3: Summarize your Work\n",
                "\n",
                "For each event write at least one query that joins any two tables in the BooksDB to support your choice and record you thoughts as to why you used the paticlular query. At least one of your queries needs to include a HAVING clause."
            ],
            "metadata": {
                "azdata_cell_guid": "1ba1363a-4f02-4962-a95a-93b80c5926b1"
            },
            "attachments": {}
        },
        {
            "cell_type": "code",
            "source": [
                "-- Event 1 Query\n",
                "--Indingenous Peoples month\n",
                "SELECT TOP 10 SUM (bt.count) AS tag_count, t.tag_id, t.tag_name\n",
                "FROM tags AS t\n",
                "LEFT JOIN book_tags AS bt\n",
                "ON t.tag_id = bt.tag_id\n",
                "GROUP BY t.tag_id, t.tag_name\n",
                "HAVING tag_name LIKE '%Indigenous%' OR tag_name LIKE '%Native%' \n",
                "ORDER BY tag_count DESC;\n",
                "\n",
                "--Indigenous Peoples History\n",
                "SELECT TOP 10 title, authors, tag_id, average_rating, original_publication_year\n",
                "FROM book_tags\n",
                "LEFT JOIN books\n",
                "ON best_book_id = goodreads_book_id\n",
                "GROUP BY average_rating, title, authors, tag_id, original_publication_year\n",
                "HAVING tag_id =21170\n",
                "ORDER BY average_rating DESC; \n",
                "\n",
                "--other books on Indigenous people\n",
                "SELECT TOP 10 title, authors, tag_id, average_rating, original_publication_year\n",
                "FROM book_tags\n",
                "LEFT JOIN books\n",
                "ON best_book_id = goodreads_book_id\n",
                "GROUP BY average_rating, title, authors, tag_id, original_publication_year\n",
                "HAVING tag_id = 21166 OR tag_id = 21175 OR tag_id = 21163 OR tag_id = 15498\n",
                "ORDER BY average_rating DESC; \n",
                "\n",
                "--Literature on Indigenous people (fiction)\n",
                "SELECT TOP 10 title, authors, tag_id, average_rating, original_publication_year\n",
                "FROM book_tags\n",
                "LEFT JOIN books\n",
                "ON best_book_id = goodreads_book_id\n",
                "GROUP BY average_rating, title, authors, tag_id, original_publication_year\n",
                "HAVING tag_id = 21172 OR tag_id = 21173 OR tag_id = 21169 \n",
                "ORDER BY average_rating DESC; "
            ],
            "metadata": {
                "azdata_cell_guid": "f50d32ce-4cb2-4af2-acb1-607777a76cf8",
                "language": "sql"
            },
            "outputs": [
                {
                    "output_type": "display_data",
                    "data": {
                        "text/html": "(10 rows affected)"
                    },
                    "metadata": {}
                },
                {
                    "output_type": "display_data",
                    "data": {
                        "text/html": "(4 rows affected)"
                    },
                    "metadata": {}
                },
                {
                    "output_type": "display_data",
                    "data": {
                        "text/html": "(10 rows affected)"
                    },
                    "metadata": {}
                },
                {
                    "output_type": "display_data",
                    "data": {
                        "text/html": "(10 rows affected)"
                    },
                    "metadata": {}
                },
                {
                    "output_type": "display_data",
                    "data": {
                        "text/html": "Total execution time: 00:00:00.610"
                    },
                    "metadata": {}
                },
                {
                    "output_type": "execute_result",
                    "execution_count": 89,
                    "data": {
                        "application/vnd.dataresource+json": {
                            "schema": {
                                "fields": [
                                    {
                                        "name": "tag_count"
                                    },
                                    {
                                        "name": "tag_id"
                                    },
                                    {
                                        "name": "tag_name"
                                    }
                                ]
                            },
                            "data": [
                                {
                                    "0": "3797",
                                    "1": "21166",
                                    "2": "native-american"
                                },
                                {
                                    "0": "1662",
                                    "1": "2186",
                                    "2": "alternative-history"
                                },
                                {
                                    "0": "700",
                                    "1": "21175",
                                    "2": "native-americans"
                                },
                                {
                                    "0": "367",
                                    "1": "21163",
                                    "2": "native"
                                },
                                {
                                    "0": "239",
                                    "1": "15498",
                                    "2": "indigenous"
                                },
                                {
                                    "0": "164",
                                    "1": "21172",
                                    "2": "native-american-lit"
                                },
                                {
                                    "0": "104",
                                    "1": "21173",
                                    "2": "native-american-literature"
                                },
                                {
                                    "0": "91",
                                    "1": "21170",
                                    "2": "native-american-history"
                                },
                                {
                                    "0": "63",
                                    "1": "21169",
                                    "2": "native-american-fiction"
                                },
                                {
                                    "0": "49",
                                    "1": "2182",
                                    "2": "alternative"
                                }
                            ]
                        },
                        "text/html": "<table><tr><th>tag_count</th><th>tag_id</th><th>tag_name</th></tr><tr><td>3797</td><td>21166</td><td>native-american</td></tr><tr><td>1662</td><td>2186</td><td>alternative-history</td></tr><tr><td>700</td><td>21175</td><td>native-americans</td></tr><tr><td>367</td><td>21163</td><td>native</td></tr><tr><td>239</td><td>15498</td><td>indigenous</td></tr><tr><td>164</td><td>21172</td><td>native-american-lit</td></tr><tr><td>104</td><td>21173</td><td>native-american-literature</td></tr><tr><td>91</td><td>21170</td><td>native-american-history</td></tr><tr><td>63</td><td>21169</td><td>native-american-fiction</td></tr><tr><td>49</td><td>2182</td><td>alternative</td></tr></table>"
                    },
                    "metadata": {}
                },
                {
                    "output_type": "execute_result",
                    "execution_count": 89,
                    "data": {
                        "application/vnd.dataresource+json": {
                            "schema": {
                                "fields": [
                                    {
                                        "name": "title"
                                    },
                                    {
                                        "name": "authors"
                                    },
                                    {
                                        "name": "tag_id"
                                    },
                                    {
                                        "name": "average_rating"
                                    },
                                    {
                                        "name": "original_publication_year"
                                    }
                                ]
                            },
                            "data": [
                                {
                                    "0": "Bury My Heart at Wounded Knee: An Indian History of the American West",
                                    "1": "Dee Brown",
                                    "2": "21170",
                                    "3": "4.21",
                                    "4": "1970"
                                },
                                {
                                    "0": "Black Elk Speaks: Being the Life Story of a Holy Man of the Oglala Sioux",
                                    "1": "Black Elk, John G. Neihardt",
                                    "2": "21170",
                                    "3": "4.13",
                                    "4": "1932"
                                },
                                {
                                    "0": "Empire of the Summer Moon: Quanah Parker and the Rise and Fall of the Comanches, the Most Powerful Indian Tribe in American History",
                                    "1": "S.C. Gwynne",
                                    "2": "21170",
                                    "3": "4.13",
                                    "4": "2010"
                                },
                                {
                                    "0": "1491: New Revelations of the Americas Before Columbus",
                                    "1": "Charles C. Mann",
                                    "2": "21170",
                                    "3": "4.01",
                                    "4": "2005"
                                }
                            ]
                        },
                        "text/html": "<table><tr><th>title</th><th>authors</th><th>tag_id</th><th>average_rating</th><th>original_publication_year</th></tr><tr><td>Bury My Heart at Wounded Knee: An Indian History of the American West</td><td>Dee Brown</td><td>21170</td><td>4.21</td><td>1970</td></tr><tr><td>Black Elk Speaks: Being the Life Story of a Holy Man of the Oglala Sioux</td><td>Black Elk, John G. Neihardt</td><td>21170</td><td>4.13</td><td>1932</td></tr><tr><td>Empire of the Summer Moon: Quanah Parker and the Rise and Fall of the Comanches, the Most Powerful Indian Tribe in American History</td><td>S.C. Gwynne</td><td>21170</td><td>4.13</td><td>2010</td></tr><tr><td>1491: New Revelations of the Americas Before Columbus</td><td>Charles C. Mann</td><td>21170</td><td>4.01</td><td>2005</td></tr></table>"
                    },
                    "metadata": {}
                },
                {
                    "output_type": "execute_result",
                    "execution_count": 89,
                    "data": {
                        "application/vnd.dataresource+json": {
                            "schema": {
                                "fields": [
                                    {
                                        "name": "title"
                                    },
                                    {
                                        "name": "authors"
                                    },
                                    {
                                        "name": "tag_id"
                                    },
                                    {
                                        "name": "average_rating"
                                    },
                                    {
                                        "name": "original_publication_year"
                                    }
                                ]
                            },
                            "data": [
                                {
                                    "0": "Night Broken (Mercy Thompson, #8)",
                                    "1": "Patricia Briggs",
                                    "2": "21166",
                                    "3": "4.42",
                                    "4": "2014"
                                },
                                {
                                    "0": "Fire Touched (Mercy Thompson, #9)",
                                    "1": "Patricia Briggs",
                                    "2": "21166",
                                    "3": "4.35",
                                    "4": "2016"
                                },
                                {
                                    "0": "Fair Game (Alpha & Omega, #3)",
                                    "1": "Patricia Briggs",
                                    "2": "21166",
                                    "3": "4.34",
                                    "4": "2012"
                                },
                                {
                                    "0": "Lake in the Clouds (Wilderness, #3)",
                                    "1": "Sara Donati",
                                    "2": "21166",
                                    "3": "4.31",
                                    "4": "2002"
                                },
                                {
                                    "0": "Three Day Road",
                                    "1": "Joseph Boyden",
                                    "2": "15498",
                                    "3": "4.31",
                                    "4": "2005"
                                },
                                {
                                    "0": "Three Day Road",
                                    "1": "Joseph Boyden",
                                    "2": "21163",
                                    "3": "4.31",
                                    "4": "2005"
                                },
                                {
                                    "0": "Three Day Road",
                                    "1": "Joseph Boyden",
                                    "2": "21166",
                                    "3": "4.31",
                                    "4": "2005"
                                },
                                {
                                    "0": "Three Day Road",
                                    "1": "Joseph Boyden",
                                    "2": "21175",
                                    "3": "4.31",
                                    "4": "2005"
                                },
                                {
                                    "0": "Dead Heat (Alpha & Omega #4)",
                                    "1": "Patricia Briggs",
                                    "2": "21166",
                                    "3": "4.27",
                                    "4": "2015"
                                },
                                {
                                    "0": "Hunting Ground (Alpha & Omega, #2)",
                                    "1": "Patricia Briggs",
                                    "2": "21166",
                                    "3": "4.27",
                                    "4": "2009"
                                }
                            ]
                        },
                        "text/html": "<table><tr><th>title</th><th>authors</th><th>tag_id</th><th>average_rating</th><th>original_publication_year</th></tr><tr><td>Night Broken (Mercy Thompson, #8)</td><td>Patricia Briggs</td><td>21166</td><td>4.42</td><td>2014</td></tr><tr><td>Fire Touched (Mercy Thompson, #9)</td><td>Patricia Briggs</td><td>21166</td><td>4.35</td><td>2016</td></tr><tr><td>Fair Game (Alpha &amp; Omega, #3)</td><td>Patricia Briggs</td><td>21166</td><td>4.34</td><td>2012</td></tr><tr><td>Lake in the Clouds (Wilderness, #3)</td><td>Sara Donati</td><td>21166</td><td>4.31</td><td>2002</td></tr><tr><td>Three Day Road</td><td>Joseph Boyden</td><td>15498</td><td>4.31</td><td>2005</td></tr><tr><td>Three Day Road</td><td>Joseph Boyden</td><td>21163</td><td>4.31</td><td>2005</td></tr><tr><td>Three Day Road</td><td>Joseph Boyden</td><td>21166</td><td>4.31</td><td>2005</td></tr><tr><td>Three Day Road</td><td>Joseph Boyden</td><td>21175</td><td>4.31</td><td>2005</td></tr><tr><td>Dead Heat (Alpha &amp; Omega #4)</td><td>Patricia Briggs</td><td>21166</td><td>4.27</td><td>2015</td></tr><tr><td>Hunting Ground (Alpha &amp; Omega, #2)</td><td>Patricia Briggs</td><td>21166</td><td>4.27</td><td>2009</td></tr></table>"
                    },
                    "metadata": {}
                },
                {
                    "output_type": "execute_result",
                    "execution_count": 89,
                    "data": {
                        "application/vnd.dataresource+json": {
                            "schema": {
                                "fields": [
                                    {
                                        "name": "title"
                                    },
                                    {
                                        "name": "authors"
                                    },
                                    {
                                        "name": "tag_id"
                                    },
                                    {
                                        "name": "average_rating"
                                    },
                                    {
                                        "name": "original_publication_year"
                                    }
                                ]
                            },
                            "data": [
                                {
                                    "0": "Black Elk Speaks: Being the Life Story of a Holy Man of the Oglala Sioux",
                                    "1": "Black Elk, John G. Neihardt",
                                    "2": "21172",
                                    "3": "4.13",
                                    "4": "1932"
                                },
                                {
                                    "0": "Black Elk Speaks: Being the Life Story of a Holy Man of the Oglala Sioux",
                                    "1": "Black Elk, John G. Neihardt",
                                    "2": "21173",
                                    "3": "4.13",
                                    "4": "1932"
                                },
                                {
                                    "0": "The Lone Ranger and Tonto Fistfight in Heaven",
                                    "1": "Sherman Alexie",
                                    "2": "21169",
                                    "3": "4.09",
                                    "4": "1993"
                                },
                                {
                                    "0": "The Lone Ranger and Tonto Fistfight in Heaven",
                                    "1": "Sherman Alexie",
                                    "2": "21172",
                                    "3": "4.09",
                                    "4": "1993"
                                },
                                {
                                    "0": "The Lone Ranger and Tonto Fistfight in Heaven",
                                    "1": "Sherman Alexie",
                                    "2": "21173",
                                    "3": "4.09",
                                    "4": "1993"
                                },
                                {
                                    "0": "The Blessing Way (Leaphorn & Chee, #1)",
                                    "1": "Tony Hillerman",
                                    "2": "21169",
                                    "3": "4.06",
                                    "4": "1970"
                                },
                                {
                                    "0": "The Master Butchers Singing Club",
                                    "1": "Louise Erdrich",
                                    "2": "21172",
                                    "3": "4.02",
                                    "4": "2003"
                                },
                                {
                                    "0": "Love Medicine",
                                    "1": "Louise Erdrich",
                                    "2": "21169",
                                    "3": "3.98",
                                    "4": "1984"
                                },
                                {
                                    "0": "Love Medicine",
                                    "1": "Louise Erdrich",
                                    "2": "21172",
                                    "3": "3.98",
                                    "4": "1984"
                                },
                                {
                                    "0": "Love Medicine",
                                    "1": "Louise Erdrich",
                                    "2": "21173",
                                    "3": "3.98",
                                    "4": "1984"
                                }
                            ]
                        },
                        "text/html": "<table><tr><th>title</th><th>authors</th><th>tag_id</th><th>average_rating</th><th>original_publication_year</th></tr><tr><td>Black Elk Speaks: Being the Life Story of a Holy Man of the Oglala Sioux</td><td>Black Elk, John G. Neihardt</td><td>21172</td><td>4.13</td><td>1932</td></tr><tr><td>Black Elk Speaks: Being the Life Story of a Holy Man of the Oglala Sioux</td><td>Black Elk, John G. Neihardt</td><td>21173</td><td>4.13</td><td>1932</td></tr><tr><td>The Lone Ranger and Tonto Fistfight in Heaven</td><td>Sherman Alexie</td><td>21169</td><td>4.09</td><td>1993</td></tr><tr><td>The Lone Ranger and Tonto Fistfight in Heaven</td><td>Sherman Alexie</td><td>21172</td><td>4.09</td><td>1993</td></tr><tr><td>The Lone Ranger and Tonto Fistfight in Heaven</td><td>Sherman Alexie</td><td>21173</td><td>4.09</td><td>1993</td></tr><tr><td>The Blessing Way (Leaphorn &amp; Chee, #1)</td><td>Tony Hillerman</td><td>21169</td><td>4.06</td><td>1970</td></tr><tr><td>The Master Butchers Singing Club</td><td>Louise Erdrich</td><td>21172</td><td>4.02</td><td>2003</td></tr><tr><td>Love Medicine</td><td>Louise Erdrich</td><td>21169</td><td>3.98</td><td>1984</td></tr><tr><td>Love Medicine</td><td>Louise Erdrich</td><td>21172</td><td>3.98</td><td>1984</td></tr><tr><td>Love Medicine</td><td>Louise Erdrich</td><td>21173</td><td>3.98</td><td>1984</td></tr></table>"
                    },
                    "metadata": {}
                }
            ],
            "execution_count": 89
        },
        {
            "cell_type": "code",
            "source": [
                "--EVENT 2 Query:\n",
                "--cook books, find the tag_ids\n",
                "SELECT TOP 10 SUM (bt.count) AS tag_count, t.tag_id, t.tag_name\n",
                "FROM tags AS t\n",
                "LEFT JOIN book_tags AS bt\n",
                "ON t.tag_id = bt.tag_id\n",
                "GROUP BY t.tag_id, t.tag_name\n",
                "HAVING tag_name LIKE '%cook%' \n",
                "ORDER BY tag_count DESC;\n",
                "\n",
                "--Popular cookbooks published since 2000\n",
                "SELECT TOP 10 title, authors, average_rating, original_publication_year, tag_name\n",
                "FROM book_tags AS bt\n",
                "LEFT JOIN books\n",
                "ON best_book_id = goodreads_book_id\n",
                "LEFT JOIN tags\n",
                "ON tags.tag_id = bt.tag_id\n",
                "GROUP BY average_rating, title, authors, bt.tag_id, original_publication_year, tag_name\n",
                "HAVING original_publication_year > 2000 AND (bt.tag_id = 8150 OR bt.tag_id = 8209 OR bt.tag_id = 8130 OR bt.tag_id = 8116)\n",
                "ORDER BY average_rating DESC; "
            ],
            "metadata": {
                "azdata_cell_guid": "5606f7f2-c46b-42d3-ac64-7ae21c3394f8",
                "language": "sql"
            },
            "outputs": [
                {
                    "output_type": "display_data",
                    "data": {
                        "text/html": "(10 rows affected)"
                    },
                    "metadata": {}
                },
                {
                    "output_type": "display_data",
                    "data": {
                        "text/html": "(10 rows affected)"
                    },
                    "metadata": {}
                },
                {
                    "output_type": "display_data",
                    "data": {
                        "text/html": "Total execution time: 00:00:00.470"
                    },
                    "metadata": {}
                },
                {
                    "output_type": "execute_result",
                    "metadata": {},
                    "execution_count": 5,
                    "data": {
                        "application/vnd.dataresource+json": {
                            "schema": {
                                "fields": [
                                    {
                                        "name": "tag_count"
                                    },
                                    {
                                        "name": "tag_id"
                                    },
                                    {
                                        "name": "tag_name"
                                    }
                                ]
                            },
                            "data": [
                                {
                                    "0": "22689",
                                    "1": "8150",
                                    "2": "cookbooks"
                                },
                                {
                                    "0": "12182",
                                    "1": "8209",
                                    "2": "cooking"
                                },
                                {
                                    "0": "3894",
                                    "1": "8130",
                                    "2": "cookbook"
                                },
                                {
                                    "0": "2076",
                                    "1": "8116",
                                    "2": "cook-books"
                                },
                                {
                                    "0": "1191",
                                    "1": "12208",
                                    "2": "food-cooking"
                                },
                                {
                                    "0": "814",
                                    "1": "8204",
                                    "2": "cookery"
                                },
                                {
                                    "0": "716",
                                    "1": "12182",
                                    "2": "food-and-cooking"
                                },
                                {
                                    "0": "571",
                                    "1": "8231",
                                    "2": "cooking-food"
                                },
                                {
                                    "0": "349",
                                    "1": "26050",
                                    "2": "robin-cook"
                                },
                                {
                                    "0": "258",
                                    "1": "20803",
                                    "2": "my-cookbooks"
                                }
                            ]
                        },
                        "text/html": [
                            "<table>",
                            "<tr><th>tag_count</th><th>tag_id</th><th>tag_name</th></tr>",
                            "<tr><td>22689</td><td>8150</td><td>cookbooks</td></tr>",
                            "<tr><td>12182</td><td>8209</td><td>cooking</td></tr>",
                            "<tr><td>3894</td><td>8130</td><td>cookbook</td></tr>",
                            "<tr><td>2076</td><td>8116</td><td>cook-books</td></tr>",
                            "<tr><td>1191</td><td>12208</td><td>food-cooking</td></tr>",
                            "<tr><td>814</td><td>8204</td><td>cookery</td></tr>",
                            "<tr><td>716</td><td>12182</td><td>food-and-cooking</td></tr>",
                            "<tr><td>571</td><td>8231</td><td>cooking-food</td></tr>",
                            "<tr><td>349</td><td>26050</td><td>robin-cook</td></tr>",
                            "<tr><td>258</td><td>20803</td><td>my-cookbooks</td></tr>",
                            "</table>"
                        ]
                    }
                },
                {
                    "output_type": "execute_result",
                    "metadata": {},
                    "execution_count": 5,
                    "data": {
                        "application/vnd.dataresource+json": {
                            "schema": {
                                "fields": [
                                    {
                                        "name": "title"
                                    },
                                    {
                                        "name": "authors"
                                    },
                                    {
                                        "name": "average_rating"
                                    },
                                    {
                                        "name": "original_publication_year"
                                    },
                                    {
                                        "name": "tag_name"
                                    }
                                ]
                            },
                            "data": [
                                {
                                    "0": "Plenty",
                                    "1": "Yotam Ottolenghi",
                                    "2": "4.32",
                                    "3": "2010",
                                    "4": "cook-books"
                                },
                                {
                                    "0": "Plenty",
                                    "1": "Yotam Ottolenghi",
                                    "2": "4.32",
                                    "3": "2010",
                                    "4": "cookbook"
                                },
                                {
                                    "0": "Plenty",
                                    "1": "Yotam Ottolenghi",
                                    "2": "4.32",
                                    "3": "2010",
                                    "4": "cookbooks"
                                },
                                {
                                    "0": "Plenty",
                                    "1": "Yotam Ottolenghi",
                                    "2": "4.32",
                                    "3": "2010",
                                    "4": "cooking"
                                },
                                {
                                    "0": "The America's Test Kitchen Family Cookbook",
                                    "1": "America's Test Kitchen, Carl Tremblay, Daniel J. Van Ackere",
                                    "2": "4.31",
                                    "3": "2005",
                                    "4": "cook-books"
                                },
                                {
                                    "0": "The America's Test Kitchen Family Cookbook",
                                    "1": "America's Test Kitchen, Carl Tremblay, Daniel J. Van Ackere",
                                    "2": "4.31",
                                    "3": "2005",
                                    "4": "cookbook"
                                },
                                {
                                    "0": "The America's Test Kitchen Family Cookbook",
                                    "1": "America's Test Kitchen, Carl Tremblay, Daniel J. Van Ackere",
                                    "2": "4.31",
                                    "3": "2005",
                                    "4": "cookbooks"
                                },
                                {
                                    "0": "The America's Test Kitchen Family Cookbook",
                                    "1": "America's Test Kitchen, Carl Tremblay, Daniel J. Van Ackere",
                                    "2": "4.31",
                                    "3": "2005",
                                    "4": "cooking"
                                },
                                {
                                    "0": "The Pioneer Woman Cooks: Food from My Frontier ",
                                    "1": "Ree Drummond",
                                    "2": "4.31",
                                    "3": "2011",
                                    "4": "cook-books"
                                },
                                {
                                    "0": "The Pioneer Woman Cooks: Food from My Frontier ",
                                    "1": "Ree Drummond",
                                    "2": "4.31",
                                    "3": "2011",
                                    "4": "cookbook"
                                }
                            ]
                        },
                        "text/html": [
                            "<table>",
                            "<tr><th>title</th><th>authors</th><th>average_rating</th><th>original_publication_year</th><th>tag_name</th></tr>",
                            "<tr><td>Plenty</td><td>Yotam Ottolenghi</td><td>4.32</td><td>2010</td><td>cook-books</td></tr>",
                            "<tr><td>Plenty</td><td>Yotam Ottolenghi</td><td>4.32</td><td>2010</td><td>cookbook</td></tr>",
                            "<tr><td>Plenty</td><td>Yotam Ottolenghi</td><td>4.32</td><td>2010</td><td>cookbooks</td></tr>",
                            "<tr><td>Plenty</td><td>Yotam Ottolenghi</td><td>4.32</td><td>2010</td><td>cooking</td></tr>",
                            "<tr><td>The America's Test Kitchen Family Cookbook</td><td>America's Test Kitchen, Carl Tremblay, Daniel J. Van Ackere</td><td>4.31</td><td>2005</td><td>cook-books</td></tr>",
                            "<tr><td>The America's Test Kitchen Family Cookbook</td><td>America's Test Kitchen, Carl Tremblay, Daniel J. Van Ackere</td><td>4.31</td><td>2005</td><td>cookbook</td></tr>",
                            "<tr><td>The America's Test Kitchen Family Cookbook</td><td>America's Test Kitchen, Carl Tremblay, Daniel J. Van Ackere</td><td>4.31</td><td>2005</td><td>cookbooks</td></tr>",
                            "<tr><td>The America's Test Kitchen Family Cookbook</td><td>America's Test Kitchen, Carl Tremblay, Daniel J. Van Ackere</td><td>4.31</td><td>2005</td><td>cooking</td></tr>",
                            "<tr><td>The Pioneer Woman Cooks: Food from My Frontier </td><td>Ree Drummond</td><td>4.31</td><td>2011</td><td>cook-books</td></tr>",
                            "<tr><td>The Pioneer Woman Cooks: Food from My Frontier </td><td>Ree Drummond</td><td>4.31</td><td>2011</td><td>cookbook</td></tr>",
                            "</table>"
                        ]
                    }
                }
            ],
            "execution_count": 5
        },
        {
            "cell_type": "markdown",
            "source": [
                "### **Summary of event 1:**\n",
                "\n",
                "Indigenous People's Month: I ran different queries to focus on the different contributions of Indigenous people: The history of Indigenous people, literature by Indigenous people and other books involving indigenous culture. After reviewing the books that came up I would likely use:\n",
                "\n",
                "The Lone Ranger and Tonto Fistfight in Heaven by Sherman Alexie because he is a modern day Indigenous author and\n",
                "\n",
                "Black Elk Speaks: Being the Life Story of a Holy Man of the Oglala Sioux by Black Elk, John G. Neihardt  for those interested in history"
            ],
            "metadata": {
                "azdata_cell_guid": "3bc72d4c-077b-42d3-9528-9aff8e7b6cf3"
            },
            "attachments": {}
        },
        {
            "cell_type": "markdown",
            "source": [
                "### **Summary of event 2:**\n",
                "\n",
                "Cooking: I chose cooking because it's fall and I tend to think of chilis, pumpkin foods and soups as the weather starts to turn. There were A LOT of cookbooks, so I narrowed the search by books published after the year 2000 whose ratings are high. \n",
                "\n",
                "Plenty by Yotam Ottoenghi\n",
                "\n",
                "The America's Test Kitchen Family Cookbook by America's Test Kitchen, Carl Tremblay, Daniel J. Van Ackere\n",
                "\n",
                "and The Pioneer Woman Cooks: Food from My Frontier  by Ree Drummond"
            ],
            "metadata": {
                "azdata_cell_guid": "99d518dc-cd8b-42d6-9a9d-708771c9aa99"
            },
            "attachments": {}
        }
    ]
}